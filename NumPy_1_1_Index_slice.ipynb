{
  "nbformat": 4,
  "nbformat_minor": 0,
  "metadata": {
    "colab": {
      "provenance": []
    },
    "kernelspec": {
      "name": "python3",
      "display_name": "Python 3"
    },
    "language_info": {
      "name": "python"
    }
  },
  "cells": [
    {
      "cell_type": "code",
      "execution_count": null,
      "metadata": {
        "colab": {
          "base_uri": "https://localhost:8080/"
        },
        "id": "VAxxL3NUBnxX",
        "outputId": "2383b403-d538-4e18-a083-6034537efcdc"
      },
      "outputs": [
        {
          "output_type": "stream",
          "name": "stdout",
          "text": [
            "1\n",
            "5\n",
            "9\n"
          ]
        }
      ],
      "source": [
        "#Numpy Array Indexing\n",
        "#Access Array Elements Using Index\n",
        "import numpy as np\n",
        "\n",
        "array1 = np.array([1, 3, 5, 7, 9])\n",
        "\n",
        "# access numpy elements using index\n",
        "print(array1[0])    # prints 1\n",
        "print(array1[2])    # prints 5\n",
        "print(array1[4])    # prints 9"
      ]
    },
    {
      "cell_type": "markdown",
      "source": [
        "Since the last element of array1 is at index 4, if we try to access the element beyond that, say index 5, we will get an index error:"
      ],
      "metadata": {
        "id": "0cm9umghEGWX"
      }
    },
    {
      "cell_type": "code",
      "source": [
        "#Modify Array Elements Using Index\n",
        "#We can use indices to change the value of an element in a NumPy array\n",
        "# create a numpy array\n",
        "numbers = np.array([2, 4, 6, 8, 10])\n",
        "\n",
        "# change the value of the first element\n",
        "numbers[0] = 12\n",
        "print(\"After modifying first element:\",numbers)    # prints [12 4 6 8 10]\n",
        "\n",
        "# change the value of the third element\n",
        "numbers[2] = 14\n",
        "print(\"After modifying third element:\",numbers)    # prints [12 4 14 8 10]"
      ],
      "metadata": {
        "colab": {
          "base_uri": "https://localhost:8080/"
        },
        "id": "9kepn6F7EHJ2",
        "outputId": "609af863-871b-4ff0-acf8-dc2eacef4ed8"
      },
      "execution_count": null,
      "outputs": [
        {
          "output_type": "stream",
          "name": "stdout",
          "text": [
            "After modifying first element: [12  4  6  8 10]\n",
            "After modifying third element: [12  4 14  8 10]\n"
          ]
        }
      ]
    },
    {
      "cell_type": "code",
      "source": [
        "#NumPy Negative Array Indexing\n",
        "#NumPy allows negative indexing for its array. The index of -1 refers to the last item, -2 to the second last item and so on.\n",
        "# create a numpy array\n",
        "numbers = np.array([1, 3, 5, 7, 9])\n",
        "\n",
        "# access the last element\n",
        "print(numbers[-1])    # prints 9\n",
        "\n",
        "# access the second-to-last element\n",
        "print(numbers[-2])    # prints 7"
      ],
      "metadata": {
        "colab": {
          "base_uri": "https://localhost:8080/"
        },
        "id": "ga-tMKFAEZq2",
        "outputId": "d68b3ed0-c90f-465b-ff48-8b4ba19e1a61"
      },
      "execution_count": null,
      "outputs": [
        {
          "output_type": "stream",
          "name": "stdout",
          "text": [
            "9\n",
            "7\n"
          ]
        }
      ]
    },
    {
      "cell_type": "code",
      "source": [
        "#2-D NumPy Array Indexing\n",
        "#Array indexing in NumPy allows us to access and manipulate elements in a 2-D array.\n",
        "\n",
        "#To access an element of array1, we need to specify the row index and column index of the element. Suppose we have following 2-D array,\n",
        "array1 = np.array([[1, 3, 5],\n",
        "                     [7, 9, 2],\n",
        "                     [4, 6, 8]])\n",
        "array1[2, 1] # returns 6"
      ],
      "metadata": {
        "colab": {
          "base_uri": "https://localhost:8080/"
        },
        "id": "kBEnI2I_EyGT",
        "outputId": "7aa88c67-d5c1-4e5f-beab-c01cbf5adcf8"
      },
      "execution_count": null,
      "outputs": [
        {
          "output_type": "execute_result",
          "data": {
            "text/plain": [
              "6"
            ]
          },
          "metadata": {},
          "execution_count": 5
        }
      ]
    },
    {
      "cell_type": "markdown",
      "source": [
        "Since we know indexing starts from 0. So to access the element in the third row and second column, we need to use index 2 for the third row and index 1 for the second column respectively."
      ],
      "metadata": {
        "id": "0m8Hqr9UFNkZ"
      }
    },
    {
      "cell_type": "code",
      "source": [
        "#2-D NumPy Array Indexing\n",
        "# create a 2D array\n",
        "array1 = np.array([[1, 3, 5, 7],\n",
        "                  [9, 11, 13, 15],\n",
        "                  [2, 4, 6, 8]])\n",
        "\n",
        "\n",
        "# access the element at the second row and fourth column\n",
        "element1 = array1[1, 3]  # returns 15\n",
        "print(\"4th Element at 2nd Row:\",element1)\n",
        "\n",
        "# access the element at the first row and second column\n",
        "element2 = array1[0, 1]  # returns 3\n",
        "print(\"2nd Element at First Row:\",element2)"
      ],
      "metadata": {
        "colab": {
          "base_uri": "https://localhost:8080/"
        },
        "id": "QX8IR0G7FR1C",
        "outputId": "1f76f67d-fe70-4573-b6b3-d13aef19be0d"
      },
      "execution_count": null,
      "outputs": [
        {
          "output_type": "stream",
          "name": "stdout",
          "text": [
            "4th Element at 2nd Row: 15\n",
            "2nd Element at First Row: 3\n"
          ]
        }
      ]
    },
    {
      "cell_type": "code",
      "source": [
        "#Access Row or Column of 2D Array Using Indexing\n",
        "#we can access specific rows or columns of a 2-D array using array indexing.\n",
        "# create a 2D array\n",
        "array1 = np.array([[1, 3, 5],\n",
        "             [7, 9, 2],\n",
        "             [4, 6, 8]])\n",
        "\n",
        "# access the second row of the array\n",
        "second_row = array1[1, :]\n",
        "print(\"Second Row:\", second_row)  # Output: [7 9 2]\n",
        "\n",
        "# access the third column of the array\n",
        "third_col = array1[:, 2]\n",
        "print(\"Third Column:\", third_col)  # Output: [5 2 8]"
      ],
      "metadata": {
        "colab": {
          "base_uri": "https://localhost:8080/"
        },
        "id": "-lacu-RfFiD6",
        "outputId": "80aaeb0b-5326-433f-80cb-15cd6f2cac81"
      },
      "execution_count": null,
      "outputs": [
        {
          "output_type": "stream",
          "name": "stdout",
          "text": [
            "Second Row: [7 9 2]\n",
            "Third Column: [5 2 8]\n"
          ]
        }
      ]
    },
    {
      "cell_type": "markdown",
      "source": [
        "array1[1, :] - access the second row of array1\n",
        "\n",
        "\n",
        "array1[:, 2] - access the third column of array1\n"
      ],
      "metadata": {
        "id": "D91mTKWXFzwc"
      }
    },
    {
      "cell_type": "code",
      "source": [
        "#3-D NumPy Array Indexing\n",
        "#We learned how to access elements in a 2D array. We can also access elements in higher dimensional arrays.\n",
        "\n",
        "#To access an element of a 3D array, we use three indices separated by commas.\n",
        "\n",
        "#The first index refers to the slice\n",
        "#The second index refers to the row\n",
        "#The third index refers to the column.\n",
        "#In 3D arrays, slice is a 2D array that is obtained by taking a subset of the elements in one of the dimensions.\n",
        "import numpy as np\n",
        "# create a 3D array with shape (2, 3, 4)\n",
        "array1 = np.array([[[1, 2, 3, 4],\n",
        "                   [5, 6, 7, 8],\n",
        "                   [9, 10, 11, 12]],\n",
        "\n",
        "                    [[13, 14, 15, 16],\n",
        "                    [17, 18, 19, 20],\n",
        "                    [21, 22, 23, 24]]])\n",
        "\n",
        "# access a specific element of the array\n",
        "element = array1[1, 2, 1]\n",
        "\n",
        "# print the value of the element\n",
        "print(element)"
      ],
      "metadata": {
        "id": "AsfNcyznF4BH",
        "colab": {
          "base_uri": "https://localhost:8080/"
        },
        "outputId": "bc12954e-4c8b-4608-d767-f72b233f343a"
      },
      "execution_count": null,
      "outputs": [
        {
          "output_type": "stream",
          "name": "stdout",
          "text": [
            "22\n"
          ]
        }
      ]
    },
    {
      "cell_type": "markdown",
      "source": [
        "Here, we created a 3D array called array1 with shape (2, 3, 4). This array contains 2 2D arrays, each with 3 rows and 4 columns.\n",
        "\n",
        "Then, we used indexing to access a specific element of array1. Notice the code,\n",
        "\n",
        "Here,\n",
        "\n",
        "array1[1,  ,  ,] - access the second 2D array, i.e.\n",
        "\n",
        "[13, 14, 15, 16],\n",
        "[17, 18, 19, 20],\n",
        "[21, 22, 23, 24]\n",
        "\n",
        "array1[  ,2,  ] - access the third row of the 2D array, i.e.\n",
        "\n",
        "[21, 22, 23, 24]\n",
        "\n",
        "array1[ , ,1] - access the second element of the third row, i.e.\n",
        "\n",
        "[22]"
      ],
      "metadata": {
        "id": "zKg4KK4rn2_X"
      }
    },
    {
      "cell_type": "code",
      "source": [
        "#1D NumPy Array Slicing\n",
        "# create a 1D array\n",
        "array1 = np.array([1, 3, 5, 7, 8, 9, 2, 4, 6])\n",
        "\n",
        "# slice array1 from index 2 to index 6 (exclusive)\n",
        "print(array1[2:6])  # [5 7 8 9]\n",
        "\n",
        "# slice array1 from index 0 to index 8 (exclusive) with a step size of 2\n",
        "print(array1[0:8:2])  # [1 5 8 2]\n",
        "\n",
        "# slice array1 from index 3 up to the last element\n",
        "print(array1[3:])  # [7 8 9 2 4 6]\n",
        "\n",
        "# items from start to end\n",
        "print(array1[:])   # [1 3 5 7 8 9 2 4 6]"
      ],
      "metadata": {
        "colab": {
          "base_uri": "https://localhost:8080/"
        },
        "id": "ob75tbvqq8A_",
        "outputId": "ebb2e67b-ba49-4d3e-b9ef-6ccd391c0cf6"
      },
      "execution_count": 3,
      "outputs": [
        {
          "output_type": "stream",
          "name": "stdout",
          "text": [
            "[5 7 8 9]\n",
            "[1 5 8 2]\n",
            "[7 8 9 2 4 6]\n",
            "[1 3 5 7 8 9 2 4 6]\n"
          ]
        }
      ]
    },
    {
      "cell_type": "code",
      "source": [
        "#In the above example, we have created the array named array1 with 9 elements.\n",
        "\n",
        "#Then, we used the slicing operator : to slice array elements.\n",
        "\n",
        "#array1[2:6] - slices array1 from index 2 to index 6, not including index 6\n",
        "#array1[0:8:2] - slices array1 from index 0 to index 8, not including index 8\n",
        "#array1[3:] - slices array1 from index 3 up to the last element\n",
        "#array1[:] - returns all items from beginning to end"
      ],
      "metadata": {
        "id": "JoHW-safrI55"
      },
      "execution_count": null,
      "outputs": []
    },
    {
      "cell_type": "code",
      "source": [
        "#Using start Parameter\n",
        "# create a numpy array\n",
        "numbers = np.array([2, 4, 6, 8, 10, 12])\n",
        "\n",
        "# modify elements from index 3 onwards\n",
        "numbers[3:] = 20\n",
        "print(numbers)\n",
        "\n",
        "#Here, numbers[3:] = 20 replaces all the elements from index 3 onwards with new value 20."
      ],
      "metadata": {
        "colab": {
          "base_uri": "https://localhost:8080/"
        },
        "id": "BgYiz17FrsVm",
        "outputId": "8d826233-ca82-436e-fab0-69cefd79325d"
      },
      "execution_count": 4,
      "outputs": [
        {
          "output_type": "stream",
          "name": "stdout",
          "text": [
            "[ 2  4  6 20 20 20]\n"
          ]
        }
      ]
    },
    {
      "cell_type": "code",
      "source": [
        "#Using stop Parameter\n",
        "import numpy as np\n",
        "\n",
        "# create a numpy array\n",
        "numbers = np.array([2, 4, 6, 8, 10, 12])\n",
        "\n",
        "# modify the first 3 elements\n",
        "numbers[:3] = 40\n",
        "print(numbers)\n",
        "\n",
        "#Here, numbers[:3] = 20 replaces the first 3 elements with the new value 40."
      ],
      "metadata": {
        "colab": {
          "base_uri": "https://localhost:8080/"
        },
        "id": "JYrIYKkkr2w1",
        "outputId": "0e8ae2da-09b1-413d-febe-586706f54000"
      },
      "execution_count": 5,
      "outputs": [
        {
          "output_type": "stream",
          "name": "stdout",
          "text": [
            "[40 40 40  8 10 12]\n"
          ]
        }
      ]
    },
    {
      "cell_type": "code",
      "source": [
        "#Using start and stop parameter\n",
        "# create a numpy array\n",
        "numbers = np.array([2, 4, 6, 8, 10, 12])\n",
        "\n",
        "# modify elements from indices 2 to 5\n",
        "numbers[2:5] = 22\n",
        "print(numbers)\n",
        "#Here, numbers[2:5] = 22 selects elements from index 2 to index 4 and replaces them with new value 22."
      ],
      "metadata": {
        "colab": {
          "base_uri": "https://localhost:8080/"
        },
        "id": "CV5OowaAsDcd",
        "outputId": "32f119ca-224a-4ecd-f7bd-9305e6582fc4"
      },
      "execution_count": 7,
      "outputs": [
        {
          "output_type": "stream",
          "name": "stdout",
          "text": [
            "[ 2  4 22 22 22 12]\n"
          ]
        }
      ]
    },
    {
      "cell_type": "code",
      "source": [
        "#Using start, stop, and step parameter\n",
        "# create a numpy array\n",
        "numbers = np.array([2, 4, 6, 8, 10, 12])\n",
        "\n",
        "# modify every second element from indices 1 to 5\n",
        "numbers[1:4:1] = 16\n",
        "print(numbers)\n",
        "\n",
        "#modifies every element from index 1 to index 4 with a new value 16."
      ],
      "metadata": {
        "colab": {
          "base_uri": "https://localhost:8080/"
        },
        "id": "tI3koDOduFzI",
        "outputId": "d8fb6a71-4548-44fb-d56b-2e7dea05e059"
      },
      "execution_count": 9,
      "outputs": [
        {
          "output_type": "stream",
          "name": "stdout",
          "text": [
            "[ 2 16 16 16 10 12]\n"
          ]
        }
      ]
    },
    {
      "cell_type": "code",
      "source": [
        "#NumPy Array Negative Slicing\n",
        "# create a numpy array\n",
        "numbers = np.array([2, 4, 6, 8, 10, 12])\n",
        "\n",
        "# slice the last 3 elements of the array\n",
        "# using the start parameter\n",
        "print(numbers[-3:])    # [8 10 12]\n",
        "\n",
        "# slice elements from 2nd-to-last to 4th-to-last element\n",
        "# using the start and stop parameters\n",
        "print(numbers[-5:-2])    # [4 6 8]\n",
        "\n",
        "# slice every other element of the array from the end\n",
        "# using the start, stop, and step parameters\n",
        "print(numbers[-1::-2])   # [12 8 4]\n",
        "\n",
        "\n",
        "#numbers[-3:] - slices last 3 elements of numbers\n",
        "#numbers[-5:-2] - slices numbers elements from 5th last to 2nd last(excluded)\n",
        "#numbers[-1::-2] - slices every other numbers elements from the end with step size 2"
      ],
      "metadata": {
        "colab": {
          "base_uri": "https://localhost:8080/"
        },
        "id": "5pvHzAD4u7HP",
        "outputId": "6f1e7750-d6d8-4dff-f21c-4eb575c17e5f"
      },
      "execution_count": 10,
      "outputs": [
        {
          "output_type": "stream",
          "name": "stdout",
          "text": [
            "[ 8 10 12]\n",
            "[4 6 8]\n",
            "[12  8  4]\n"
          ]
        }
      ]
    },
    {
      "cell_type": "code",
      "source": [
        "#Reverse NumPy Array Using Negative Slicing\n",
        "# create a numpy array\n",
        "numbers = np.array([2, 4, 6, 8, 10, 12])\n",
        "\n",
        "# generate reversed array\n",
        "reversed_numbers = numbers[::-1]\n",
        "print(reversed_numbers)\n",
        "\n",
        "#Here, the slice numbers[::-1] selects all the elements of the array with a step size of -1, which reverses the order of the elements."
      ],
      "metadata": {
        "colab": {
          "base_uri": "https://localhost:8080/"
        },
        "id": "ahBkFLCSvSRk",
        "outputId": "2029c65a-1f67-4675-a8fb-dc80693779c9"
      },
      "execution_count": 11,
      "outputs": [
        {
          "output_type": "stream",
          "name": "stdout",
          "text": [
            "[12 10  8  6  4  2]\n"
          ]
        }
      ]
    },
    {
      "cell_type": "code",
      "source": [
        "#2D NumPy Array Slicing\n",
        "#A 2D NumPy array can be thought of as a matrix, where each element has two indices, row index and column index.\n",
        "\n",
        "#To slice a 2D NumPy array, we can use the same syntax as for slicing a 1D NumPy array.\n",
        "#The only difference is that we need to specify a slice for each dimension of the array.\n",
        "#array[row_start:row_stop:row_step, col_start:col_stop:col_step]\n",
        "# create a 2D array\n",
        "array1 = np.array([[1, 3, 5, 7],\n",
        "                   [9, 11, 13, 15]])\n",
        "\n",
        "print(array1[:2, :2])\n",
        "\n",
        "#Here, the , in [:2, :2] separates the rows of the array.\n",
        "\n",
        "#The first :2 returns first 2 rows i.e., entire array1. This results in"
      ],
      "metadata": {
        "colab": {
          "base_uri": "https://localhost:8080/"
        },
        "id": "08a1O_pEvb78",
        "outputId": "db994721-11eb-408f-fe5c-788c1f97d539"
      },
      "execution_count": 13,
      "outputs": [
        {
          "output_type": "stream",
          "name": "stdout",
          "text": [
            "[[ 1  3]\n",
            " [ 9 11]]\n"
          ]
        }
      ]
    },
    {
      "cell_type": "markdown",
      "source": [
        "Here, the , in [:2, :2] separates the rows of the array.\n",
        "\n",
        "The first :2 returns first 2 rows i.e., entire array1. This results in\n",
        "[1  3]\n",
        "\n",
        "The second :2 returns first 2 columns from the 2 rows. This results in\n",
        "\n",
        "[9 11]"
      ],
      "metadata": {
        "id": "C4sCFUauwUEn"
      }
    },
    {
      "cell_type": "code",
      "source": [
        "#a 1D array.\n",
        "np.array([1, 3, 5, 7, 2, 4, 6, 8])\n",
        "#We can reshape this 1D array into N-d array as\n",
        "# reshape 1D into 2D array\n",
        "# with 2 rows and 4 columns\n",
        "#[[1 3 5 7]\n",
        " #[2 4 6 8]]\n",
        "\n",
        "# reshape 1D into 3D array\n",
        "# with 2 rows, 2 columns, and 2 layers\n",
        "#[[[1 3]\n",
        " # [5 7]]\n",
        "\n",
        " #[[2 4]\n",
        "  #[6 8]]]\n"
      ],
      "metadata": {
        "colab": {
          "base_uri": "https://localhost:8080/"
        },
        "id": "Mu4DBZIOse5f",
        "outputId": "b490c99f-8268-4373-c877-836ae64d9723"
      },
      "execution_count": 15,
      "outputs": [
        {
          "output_type": "execute_result",
          "data": {
            "text/plain": [
              "array([1, 3, 5, 7, 2, 4, 6, 8])"
            ]
          },
          "metadata": {},
          "execution_count": 15
        }
      ]
    },
    {
      "cell_type": "code",
      "source": [
        "#Reshape 1D Array to 2D Array in NumPy\n",
        "array1 = np.array([1, 3, 5, 7, 2, 4, 6, 8])\n",
        "\n",
        "# reshape a 1D array into a 2D array\n",
        "# with 2 rows and 4 columns\n",
        "result = np.reshape(array1, (2, 4))\n",
        "print(result)"
      ],
      "metadata": {
        "colab": {
          "base_uri": "https://localhost:8080/"
        },
        "id": "mGwESnu6xW5x",
        "outputId": "e3bdc9ef-8351-4761-a535-3c11ee824894"
      },
      "execution_count": 16,
      "outputs": [
        {
          "output_type": "stream",
          "name": "stdout",
          "text": [
            "[[1 3 5 7]\n",
            " [2 4 6 8]]\n"
          ]
        }
      ]
    },
    {
      "cell_type": "code",
      "source": [
        "# reshape a 1D array into a 2D array\n",
        "# with 4 rows and 2 columns\n",
        "array1 = np.array([1, 3, 5, 7, 2, 4, 6, 8])\n",
        "result1 = np.reshape(array1, (4, 2))\n",
        "print(\"With 4 rows and 2 columns: \\n\",result1)\n",
        "\n",
        "\n",
        "# reshape a 1D array into a 2D array with a single row\n",
        "result2 = np.reshape(array1, (1, 8))\n",
        "print(\"\\nWith a single row: \\n\",result2)\n",
        "\n",
        "\n",
        "#Note:\n",
        "\n",
        "#We need to make sure that the new shape in reshape() has the same number of elements as the original array, else a ValueError will be raised.\n",
        "#For example, reshaping an 8 element 1D array into a 2D array of 2 rows and 4 columns is possible,\n",
        "##but reshaping it into a 2D array of 3 rows and 3 columns is not possible as that would require 3x3 = 9 elements."
      ],
      "metadata": {
        "colab": {
          "base_uri": "https://localhost:8080/"
        },
        "id": "NI4YMN8A1nbR",
        "outputId": "e7110fcd-e86a-46f6-a216-01994351ccc2"
      },
      "execution_count": 19,
      "outputs": [
        {
          "output_type": "stream",
          "name": "stdout",
          "text": [
            "With 4 rows and 2 columns: \n",
            " [[1 3]\n",
            " [5 7]\n",
            " [2 4]\n",
            " [6 8]]\n",
            "\n",
            "With a single row: \n",
            " [[1 3 5 7 2 4 6 8]]\n"
          ]
        }
      ]
    },
    {
      "cell_type": "code",
      "source": [
        "#Reshape 1D Array to 3D Array in NumPy\n",
        "# create a 1D array\n",
        "array1 = np.array([1, 3, 5, 7, 2, 4, 6, 8])\n",
        "\n",
        "# reshape the 1D array to a 3D array\n",
        "result = np.reshape(array1, (2, 2, 2))\n",
        "\n",
        "# print the new array\n",
        "print(\"1D to 3D Array: \\n\",result)\n",
        "\n",
        "\n",
        "#Here, since there are 8 elements in the array1 array, np.reshape(array1, (2, 2, 2)) reshapes array1 into a 3D array with 2 rows, 2 columns and 2 layers."
      ],
      "metadata": {
        "colab": {
          "base_uri": "https://localhost:8080/"
        },
        "id": "W0iULiXP2EWP",
        "outputId": "c77fb1ec-9674-4416-c5fa-9677eca4f778"
      },
      "execution_count": 20,
      "outputs": [
        {
          "output_type": "stream",
          "name": "stdout",
          "text": [
            "1D to 3D Array: \n",
            " [[[1 3]\n",
            "  [5 7]]\n",
            "\n",
            " [[2 4]\n",
            "  [6 8]]]\n"
          ]
        }
      ]
    },
    {
      "cell_type": "markdown",
      "source": [
        "Flatten N-d Array to 1-D Array Using reshape()\n",
        "\n",
        "Flattening an array simply means converting a multidimensional array into a 1D array.\n",
        "\n",
        "To flatten an N-d array to a 1-D array we can use reshape() and pass \"-1\" as an argument."
      ],
      "metadata": {
        "id": "9EOv2yB22vgs"
      }
    },
    {
      "cell_type": "code",
      "source": [
        "# flatten 2D array to 1D\n",
        "array1 = np.array([[1, 3], [5, 7], [9, 11]])\n",
        "result1 = np.reshape(array1, -1)\n",
        "print(\"Flattened 2D array:\", result1)\n",
        "\n",
        "# flatten 3D array to 1D\n",
        "array2 = np.array([[[1, 3], [5, 7]], [[2, 4], [6, 8]]])\n",
        "result2 = np.reshape(array2, -1)\n",
        "print(\"Flattened 3D array:\", result2)\n",
        "\n",
        "#Here, reshape(array1, -1) and reshape(array2, -1) convert 2-D array and 3-D array into a 1-D array by collapsing all dimensions."
      ],
      "metadata": {
        "colab": {
          "base_uri": "https://localhost:8080/"
        },
        "id": "nPb5PuS223Z4",
        "outputId": "dc3f9f1a-aaa9-4540-a017-8ba24d97b5bb"
      },
      "execution_count": 22,
      "outputs": [
        {
          "output_type": "stream",
          "name": "stdout",
          "text": [
            "Flattened 2D array: [ 1  3  5  7  9 11]\n",
            "Flattened 3D array: [1 3 5 7 2 4 6 8]\n"
          ]
        }
      ]
    }
  ]
}