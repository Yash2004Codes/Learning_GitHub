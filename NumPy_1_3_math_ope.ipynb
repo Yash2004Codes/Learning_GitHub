{
  "nbformat": 4,
  "nbformat_minor": 0,
  "metadata": {
    "colab": {
      "provenance": []
    },
    "kernelspec": {
      "name": "python3",
      "display_name": "Python 3"
    },
    "language_info": {
      "name": "python"
    }
  },
  "cells": [
    {
      "cell_type": "code",
      "execution_count": 2,
      "metadata": {
        "colab": {
          "base_uri": "https://localhost:8080/"
        },
        "id": "Oa2llqfE3fvq",
        "outputId": "c4c3aac0-5740-4616-ce79-6fe11d3d9ecd"
      },
      "outputs": [
        {
          "output_type": "stream",
          "name": "stdout",
          "text": [
            "Using the + operator: [ 3  7 11 15]\n",
            "Using the add() function: [ 3  7 11 15]\n"
          ]
        }
      ],
      "source": [
        "#NumPy Arithmetic Array Operations\n",
        "#perform element-wise addition between two NumPy arrays.\n",
        "import numpy as np\n",
        "first_array = np.array([1, 3, 5, 7])\n",
        "second_array = np.array([2, 4, 6, 8])\n",
        "\n",
        "# using the + operator\n",
        "result1 = first_array + second_array\n",
        "print(\"Using the + operator:\",result1)\n",
        "\n",
        "# using the add() function\n",
        "result2 = np.add(first_array, second_array)\n",
        "print(\"Using the add() function:\",result2)"
      ]
    },
    {
      "cell_type": "code",
      "source": [
        "#NumPy Array Element-Wise Subtraction\n",
        "#In NumPy, we can either use the - operator or the subtract() function to perform element-wise subtraction between two NumPy arrays.\n",
        "first_array = np.array([3, 9, 27, 81])\n",
        "second_array = np.array([2, 4, 8, 16])\n",
        "\n",
        "# using the - operator\n",
        "result1 = first_array - second_array\n",
        "print(\"Using the - operator:\",result1)\n",
        "\n",
        "# using the subtract() function\n",
        "result2 = np.subtract(first_array, second_array)\n",
        "print(\"Using the subtract() function:\",result2)"
      ],
      "metadata": {
        "colab": {
          "base_uri": "https://localhost:8080/"
        },
        "id": "5De9QbcP45ua",
        "outputId": "9ac06219-2c47-490b-da9a-bba5562f7f2e"
      },
      "execution_count": 3,
      "outputs": [
        {
          "output_type": "stream",
          "name": "stdout",
          "text": [
            "Using the - operator: [ 1  5 19 65]\n",
            "Using the subtract() function: [ 1  5 19 65]\n"
          ]
        }
      ]
    },
    {
      "cell_type": "code",
      "source": [
        "#NumPy Array Element-Wise Multiplication\n",
        "first_array = np.array([1, 3, 5, 7])\n",
        "second_array = np.array([2, 4, 6, 8])\n",
        "\n",
        "# using the * operator\n",
        "result1 = first_array * second_array\n",
        "print(\"Using the * operator:\",result1)\n",
        "\n",
        "# using the multiply() function\n",
        "result2 = np.multiply(first_array, second_array)\n",
        "print(\"Using the multiply() function:\",result2)"
      ],
      "metadata": {
        "colab": {
          "base_uri": "https://localhost:8080/"
        },
        "id": "_CP_SG7M5PZC",
        "outputId": "f7c74a2c-752c-48c9-e1a6-7ee2ca00112a"
      },
      "execution_count": 4,
      "outputs": [
        {
          "output_type": "stream",
          "name": "stdout",
          "text": [
            "Using the * operator: [ 2 12 30 56]\n",
            "Using the multiply() function: [ 2 12 30 56]\n"
          ]
        }
      ]
    },
    {
      "cell_type": "code",
      "source": [
        "first_array = np.array([1, 2, 3])\n",
        "second_array = np.array([4, 5, 6])\n",
        "\n",
        "# using the / operator\n",
        "result1 = first_array / second_array\n",
        "print(\"Using the / operator:\",result1)\n",
        "\n",
        "# using the divide() function\n",
        "result2 = np.divide(first_array, second_array)\n",
        "print(\"Using the divide() function:\",result2)"
      ],
      "metadata": {
        "colab": {
          "base_uri": "https://localhost:8080/"
        },
        "id": "laB5zt3S5cwf",
        "outputId": "73cdfb33-46d5-4946-86d9-a6d968d90fc9"
      },
      "execution_count": 5,
      "outputs": [
        {
          "output_type": "stream",
          "name": "stdout",
          "text": [
            "Using the / operator: [0.25 0.4  0.5 ]\n",
            "Using the divide() function: [0.25 0.4  0.5 ]\n"
          ]
        }
      ]
    },
    {
      "cell_type": "code",
      "source": [
        "#NumPy Array Creation Functions\n",
        "# create an array using np.array()\n",
        "array1 = np.array([1, 3, 5])\n",
        "print(\"np.array():\\n\", array1)\n",
        "\n",
        "# create an array filled with zeros using np.zeros()\n",
        "array2 = np.zeros((3, 3))\n",
        "print(\"\\nnp.zeros():\\n\", array2)\n",
        "\n",
        "# create an array filled with ones using np.ones()\n",
        "array3 = np.ones((2, 4))\n",
        "print(\"\\nnp.ones():\\n\", array3)\n",
        "\n",
        "\n",
        "#np.array() - creates an array from a Python List\n",
        "#np.zeros() - creates an array filled with zeros of the specified shape\n",
        "#np.ones() - creates an array filled with ones of the specified shape"
      ],
      "metadata": {
        "colab": {
          "base_uri": "https://localhost:8080/"
        },
        "id": "HAMxuUl96X-3",
        "outputId": "b17035f7-8be1-4b97-89b1-c0a35e5e957f"
      },
      "execution_count": 6,
      "outputs": [
        {
          "output_type": "stream",
          "name": "stdout",
          "text": [
            "np.array():\n",
            " [1 3 5]\n",
            "\n",
            "np.zeros():\n",
            " [[0. 0. 0.]\n",
            " [0. 0. 0.]\n",
            " [0. 0. 0.]]\n",
            "\n",
            "np.ones():\n",
            " [[1. 1. 1. 1.]\n",
            " [1. 1. 1. 1.]]\n"
          ]
        }
      ]
    },
    {
      "cell_type": "code",
      "source": [
        "#NumPy Array Manipulation Functions\n",
        "#NumPy array manipulation functions allow us to modify or rearrange NumPy arrays.\n",
        "# create a 1D array\n",
        "array1 = np.array([1, 3, 5, 7, 9, 11])\n",
        "\n",
        "# reshape the 1D array into a 2D array\n",
        "array2 = np.reshape(array1, (2, 3))\n",
        "\n",
        "# transpose the 2D array\n",
        "array3 = np.transpose(array2)\n",
        "\n",
        "print(\"Original array:\\n\", array1)\n",
        "print(\"\\nReshaped array:\\n\", array2)\n",
        "print(\"\\nTransposed array:\\n\", array3)\n",
        "\n",
        "\n",
        "#np.reshape(array1, (2, 3)) - reshapes array1 into 2D array with shape (2,3)\n",
        "#np.transpose(array2) - transposes 2D array array2"
      ],
      "metadata": {
        "colab": {
          "base_uri": "https://localhost:8080/"
        },
        "id": "j5IlgbE66q2M",
        "outputId": "a3918c7c-4c65-4c06-9b29-c6c9079ece20"
      },
      "execution_count": 7,
      "outputs": [
        {
          "output_type": "stream",
          "name": "stdout",
          "text": [
            "Original array:\n",
            " [ 1  3  5  7  9 11]\n",
            "\n",
            "Reshaped array:\n",
            " [[ 1  3  5]\n",
            " [ 7  9 11]]\n",
            "\n",
            "Transposed array:\n",
            " [[ 1  7]\n",
            " [ 3  9]\n",
            " [ 5 11]]\n"
          ]
        }
      ]
    },
    {
      "cell_type": "code",
      "source": [
        "#NumPy Array Statistical Functions\n",
        "#statistical functions are useful to find basic statistical concepts like mean, median, variance, etc.\n",
        "#It is also used to find the maximum or the minimum element in an array.\n",
        "# create a numpy array\n",
        "marks = np.array([76, 78, 81, 66, 85])\n",
        "\n",
        "# compute the mean of marks\n",
        "mean_marks = np.mean(marks)\n",
        "print(\"Mean:\",mean_marks)\n",
        "\n",
        "# compute the median of marks\n",
        "median_marks = np.median(marks)\n",
        "print(\"Median:\",median_marks)\n",
        "\n",
        "# find the minimum and maximum marks\n",
        "min_marks = np.min(marks)\n",
        "print(\"Minimum marks:\", min_marks)\n",
        "\n",
        "max_marks = np.max(marks)\n",
        "print(\"Maximum marks:\", max_marks)"
      ],
      "metadata": {
        "colab": {
          "base_uri": "https://localhost:8080/"
        },
        "id": "V5wbacwf7FMs",
        "outputId": "c5166c0d-7a80-4186-c0fc-ea97ce936354"
      },
      "execution_count": 8,
      "outputs": [
        {
          "output_type": "stream",
          "name": "stdout",
          "text": [
            "Mean: 77.2\n",
            "Median: 78.0\n",
            "Minimum marks: 66\n",
            "Maximum marks: 85\n"
          ]
        }
      ]
    },
    {
      "cell_type": "code",
      "source": [
        "#NumPy Array Input/Output Functions\n",
        "# create an array\n",
        "array1 = np.array([[1, 3, 5], [2, 4, 6]])\n",
        "\n",
        "# save the array to a text file\n",
        "np.savetxt('data.txt', array1)\n",
        "\n",
        "# load the data from the text file\n",
        "loaded_data = np.loadtxt('data.txt')\n",
        "\n",
        "# print the loaded data\n",
        "print(loaded_data)\n",
        "\n",
        "#In this example, we first created the 2D array named array1 and then saved it to a text file using the np.savetxt() function.\n",
        "\n",
        "#We then loaded the saved data using the np.loadtxt() function."
      ],
      "metadata": {
        "colab": {
          "base_uri": "https://localhost:8080/"
        },
        "id": "GePDR7pE7cUE",
        "outputId": "170fbf6b-e90b-475c-9285-bf80b7349dea"
      },
      "execution_count": 11,
      "outputs": [
        {
          "output_type": "stream",
          "name": "stdout",
          "text": [
            "[[1. 3. 5.]\n",
            " [2. 4. 6.]]\n"
          ]
        }
      ]
    },
    {
      "cell_type": "code",
      "source": [
        "#NumPy Comparison Operators\n",
        "array1 = np.array([1, 2, 3])\n",
        "array2 = np.array([3, 2, 1])\n",
        "\n",
        "# less than operator\n",
        "result1 = array1 < array2\n",
        "print(\"array1 < array2:\",result1)    # Output: [ True False False]\n",
        "\n",
        "# greater than operator\n",
        "result2 = array1 > array2\n",
        "print(\"array1 > array2:\",result2)    # Output: [False False  True]\n",
        "\n",
        "# equal to operator\n",
        "result3 = array1 == array2\n",
        "print(\"array1 == array2:\",result3)    # Output: [False  True False]\n",
        "\n",
        "#the output of the comparison operators is also an array, where each element is either True or False based on the array element's comparison."
      ],
      "metadata": {
        "colab": {
          "base_uri": "https://localhost:8080/"
        },
        "id": "A-RCnktk8uBk",
        "outputId": "c641ffdd-213a-4c66-ff07-cdb30b3181c1"
      },
      "execution_count": 12,
      "outputs": [
        {
          "output_type": "stream",
          "name": "stdout",
          "text": [
            "array1 < array2: [ True False False]\n",
            "array1 > array2: [False False  True]\n",
            "array1 == array2: [False  True False]\n"
          ]
        }
      ]
    },
    {
      "cell_type": "code",
      "source": [
        "array1 = np.array([9, 12, 21])\n",
        "array2 = np.array([21, 12, 9])\n",
        "\n",
        "# use of less()\n",
        "result = np.less(array1, array2)\n",
        "print(\"Using less():\",result)    # Output: [ True False False]\n",
        "\n",
        "# use of less_equal()\n",
        "result = np.less_equal(array1, array2)\n",
        "print(\"Using less_equal():\",result)     # Output: [ True  True False]\n",
        "\n",
        "# use of greater()\n",
        "result = np.greater(array1, array2)\n",
        "print(\"Using greater():\",result)    # Output: [False False  True]\n",
        "\n",
        "# use of greater_equal()\n",
        "result = np.greater_equal(array1, array2)\n",
        "print(\"Using greater_equal():\",result)    # Output: [False  True  True]\n",
        "\n",
        "# use of equal()\n",
        "result = np.equal(array1, array2)\n",
        "print(\"Using equal():\",result)    # Output: [False  True False]\n",
        "\n",
        "# use of not_equal()\n",
        "result = np.not_equal(array1, array2)\n",
        "print(\"Using not_equal():\",result)    # Output: [ True False  True]"
      ],
      "metadata": {
        "colab": {
          "base_uri": "https://localhost:8080/"
        },
        "id": "9L7BDdHZ9f4J",
        "outputId": "4b114441-be28-4322-c70f-8000b2442508"
      },
      "execution_count": 13,
      "outputs": [
        {
          "output_type": "stream",
          "name": "stdout",
          "text": [
            "Using less(): [ True False False]\n",
            "Using less_equal(): [ True  True False]\n",
            "Using greater(): [False False  True]\n",
            "Using greater_equal(): [False  True  True]\n",
            "Using equal(): [False  True False]\n",
            "Using not_equal(): [ True False  True]\n"
          ]
        }
      ]
    },
    {
      "cell_type": "code",
      "source": [
        "x1 = np.array([True, False, True])\n",
        "x2 = np.array([False, False, True])\n",
        "\n",
        "# Logical AND\n",
        "print(np.logical_and(x1, x2)) # Output: [False False  True]\n",
        "\n",
        "# Logical OR\n",
        "print(np.logical_or(x1, x2)) # Output: [ True False  True]\n",
        "\n",
        "# Logical NOT\n",
        "print(np.logical_not(x1)) # Output: [False  True False]\n",
        "\n",
        "#Here, we have performed logical operations on two arrays, x1 and x2, containing boolean values.\n",
        "\n",
        "#It demonstrates the logical AND, OR, and NOT operations using np.logical_and(), np.logical_or(), and np.logical_not() respectively."
      ],
      "metadata": {
        "colab": {
          "base_uri": "https://localhost:8080/"
        },
        "id": "lNev_ycC9xxP",
        "outputId": "bcdbf1e4-4abb-45f1-ee99-6c77373ecb1e"
      },
      "execution_count": 14,
      "outputs": [
        {
          "output_type": "stream",
          "name": "stdout",
          "text": [
            "[False False  True]\n",
            "[ True False  True]\n",
            "[False  True False]\n"
          ]
        }
      ]
    },
    {
      "cell_type": "code",
      "source": [
        "#Compute Median for Even Number of Elements\n",
        "# create a 1D array with 6 elements\n",
        "array1 = np.array([1, 2, 3, 4, 5, 7])\n",
        "\n",
        "# calculate the median\n",
        "median = np.median(array1)\n",
        "print(median)"
      ],
      "metadata": {
        "colab": {
          "base_uri": "https://localhost:8080/"
        },
        "id": "bo-jj-iD-Czu",
        "outputId": "b0db03f7-4aa4-44df-e320-18d1eb2fe155"
      },
      "execution_count": 15,
      "outputs": [
        {
          "output_type": "stream",
          "name": "stdout",
          "text": [
            "3.5\n"
          ]
        }
      ]
    },
    {
      "cell_type": "code",
      "source": [
        "#Compute Mean Using NumPy\n",
        "# create a numpy array\n",
        "marks = np.array([76, 78, 81, 66, 85])\n",
        "\n",
        "# compute the mean of marks\n",
        "mean_marks = np.mean(marks)\n",
        "\n",
        "print(mean_marks)"
      ],
      "metadata": {
        "colab": {
          "base_uri": "https://localhost:8080/"
        },
        "id": "gAFuu4iZ-N-u",
        "outputId": "54cf6bc5-a0fb-4336-cc81-3fed6a4b98ad"
      },
      "execution_count": 16,
      "outputs": [
        {
          "output_type": "stream",
          "name": "stdout",
          "text": [
            "77.2\n"
          ]
        }
      ]
    },
    {
      "cell_type": "code",
      "source": [
        "#Compute the Standard Deviation of a 2D array.\n",
        "# create a 2D array\n",
        "array1 = np.array([[2, 5, 9],\n",
        "                 [3, 8, 11],\n",
        "                 [4, 6, 7]])\n",
        "\n",
        "# compute standard deviation along horizontal axis\n",
        "result1 = np.std(array1, axis=1)\n",
        "print(\"Standard deviation along horizontal axis:\", result1)\n",
        "\n",
        "# compute standard deviation along vertical axis\n",
        "result2 = np.std(array1, axis=0)\n",
        "print(\"Standard deviation  along vertical axis:\", result2)\n",
        "\n",
        "# compute standard deviation of entire array\n",
        "result3 = np.std(array1)\n",
        "print(\"Standard deviation of entire array:\", result3)\n",
        "\n",
        "\n",
        "#Here, we have created a 2D array named array1.\n",
        "\n",
        "#We then computed the standard deviation along horizontal and vertical axis individually and then computed the standard deviation of the entire array."
      ],
      "metadata": {
        "colab": {
          "base_uri": "https://localhost:8080/"
        },
        "id": "DeOOazBs-Xjp",
        "outputId": "5bdcdb93-949b-4f18-dea6-e0f9b3d20965"
      },
      "execution_count": 17,
      "outputs": [
        {
          "output_type": "stream",
          "name": "stdout",
          "text": [
            "Standard deviation along horizontal axis: [2.86744176 3.29983165 1.24721913]\n",
            "Standard deviation  along vertical axis: [0.81649658 1.24721913 1.63299316]\n",
            "Standard deviation of entire array: 2.7666443551086073\n"
          ]
        }
      ]
    },
    {
      "cell_type": "markdown",
      "source": [
        "In a 2D array, standard deviation can be calculated either along the horizontal or the vertical axis individually, or across the entire array.\n",
        "\n",
        "Similar to mean and median, when computing the standard deviation of a 2D array, we use the axis parameter inside np.std() to specify the axis along which to compute the standard deviation."
      ],
      "metadata": {
        "id": "t1BAcsGG-fXX"
      }
    },
    {
      "cell_type": "code",
      "source": [
        "#NumPy String add() Function\n",
        "array1 = np.array(['iPhone: ', 'price: '])\n",
        "array2 = np.array(['15', '$900'])\n",
        "\n",
        "# perform element-wise array string concatenation\n",
        "result = np.char.add(array1, array2)\n",
        "\n",
        "print(result)\n",
        "\n",
        "\n",
        "#In this example, we have defined two NumPy arrays: array1 and array2, with string elements 'iphone: ' and 'price: ' and '15' and '$900' respectively.\n",
        "\n",
        "#We then used np.char.add(array1, array2) to concatenate the elements of array1 and array2 element-wise.\n",
        "\n",
        "#Finally, we have stored the concatenated string in result, which in our case are 'iPhone: 15' and 'price: $900'."
      ],
      "metadata": {
        "colab": {
          "base_uri": "https://localhost:8080/"
        },
        "id": "7jm_gLOw--uv",
        "outputId": "ae3cc681-d8b6-4f10-b830-04d31f94d408"
      },
      "execution_count": 19,
      "outputs": [
        {
          "output_type": "stream",
          "name": "stdout",
          "text": [
            "['iPhone: 15' 'price: $900']\n"
          ]
        }
      ]
    },
    {
      "cell_type": "code",
      "source": [
        "#NumPy String multiply() Function\n",
        "# define array with three string elements\n",
        "array1 = np.array(['A', 'B', 'C'])\n",
        "\n",
        "#  repeat each element in array1 two times\n",
        "result = np.char.multiply(array1, 2)\n",
        "\n",
        "print(result)"
      ],
      "metadata": {
        "colab": {
          "base_uri": "https://localhost:8080/"
        },
        "id": "1ShWZHHt_P-z",
        "outputId": "0c1907b2-153f-4bf3-809c-f8d6722188a6"
      },
      "execution_count": 20,
      "outputs": [
        {
          "output_type": "stream",
          "name": "stdout",
          "text": [
            "['AA' 'BB' 'CC']\n"
          ]
        }
      ]
    },
    {
      "cell_type": "code",
      "source": [
        "#NumPy String capitalize() Function\n",
        "# define an array with three string elements\n",
        "array1 = np.array(['eric', 'paul', 'sean'])\n",
        "\n",
        "# capitalize the first letter of each string in array1\n",
        "result = np.char.capitalize(array1)\n",
        "\n",
        "print(result)"
      ],
      "metadata": {
        "colab": {
          "base_uri": "https://localhost:8080/"
        },
        "id": "tqMZkEIB_akD",
        "outputId": "80e10741-f8a3-4ed4-cc47-093132468b28"
      },
      "execution_count": 21,
      "outputs": [
        {
          "output_type": "stream",
          "name": "stdout",
          "text": [
            "['Eric' 'Paul' 'Sean']\n"
          ]
        }
      ]
    },
    {
      "cell_type": "code",
      "source": [
        "#NumPy String upper() and lower() Function\n",
        "#NumPy provides two string functions for converting the case of a string: np.char.upper() and np.char.lower().\n",
        "array1 = np.array(['nEpalI', 'AmeriCAN', 'CaNadIan'])\n",
        "\n",
        "# convert all string elements to uppercase\n",
        "result1 = np.char.upper(array1)\n",
        "\n",
        "# convert all string elements to lowercase\n",
        "result2 = np.char.lower(array1)\n",
        "\n",
        "print(\"To Uppercase: \",result1)\n",
        "print(\"To Lowercase: \",result2)"
      ],
      "metadata": {
        "colab": {
          "base_uri": "https://localhost:8080/"
        },
        "id": "APjNKORs_hQT",
        "outputId": "fc5c76b6-f5e9-44f0-8186-761455439d47"
      },
      "execution_count": 22,
      "outputs": [
        {
          "output_type": "stream",
          "name": "stdout",
          "text": [
            "To Uppercase:  ['NEPALI' 'AMERICAN' 'CANADIAN']\n",
            "To Lowercase:  ['nepali' 'american' 'canadian']\n"
          ]
        }
      ]
    }
  ]
}