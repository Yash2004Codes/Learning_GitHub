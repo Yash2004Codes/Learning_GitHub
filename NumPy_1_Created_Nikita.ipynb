{
  "nbformat": 4,
  "nbformat_minor": 0,
  "metadata": {
    "colab": {
      "provenance": []
    },
    "kernelspec": {
      "name": "python3",
      "display_name": "Python 3"
    },
    "language_info": {
      "name": "python"
    }
  },
  "cells": [
    {
      "cell_type": "code",
      "execution_count": 1,
      "metadata": {
        "id": "aczZpi8JRUpY"
      },
      "outputs": [],
      "source": [
        "#Import NumPy in Python\n",
        "import numpy as np\n",
        "#The code above imports the numpy library in our program as an alias np."
      ]
    },
    {
      "cell_type": "code",
      "source": [
        "#Create Array Using Python List\n",
        "#We can create a NumPy array using a Python List. For example,\n",
        "import numpy as np\n",
        "\n",
        "# create a list named list1\n",
        "list1 = [2, 4, 6, 8]\n",
        "\n",
        "# create numpy array using list1\n",
        "array1 = np.array(list1)\n",
        "\n",
        "print(array1)\n",
        "print(list1)\n",
        "\n",
        "#Here, we have created an array by passing list1 as an argument to the np.array() function."
      ],
      "metadata": {
        "colab": {
          "base_uri": "https://localhost:8080/"
        },
        "id": "cnfGLqHfXP6-",
        "outputId": "56346f63-15b0-45d0-a676-fa6ca3c61952"
      },
      "execution_count": 3,
      "outputs": [
        {
          "output_type": "stream",
          "name": "stdout",
          "text": [
            "[2 4 6 8]\n",
            "[2, 4, 6, 8]\n"
          ]
        }
      ]
    },
    {
      "cell_type": "code",
      "source": [
        "#Instead of creating a list and using the list variable with the np.array() function, we can directly pass list elements as an argument.\n",
        "#For example,\n",
        "# create numpy array using a list\n",
        "array1 = np.array([2, 4, 6, 8])\n",
        "print(array1)\n",
        "#same output as the previous"
      ],
      "metadata": {
        "colab": {
          "base_uri": "https://localhost:8080/"
        },
        "id": "TmDIJT4Rb3IB",
        "outputId": "a451f7ae-e62f-44d0-cbf9-cf84541bf5dc"
      },
      "execution_count": 4,
      "outputs": [
        {
          "output_type": "stream",
          "name": "stdout",
          "text": [
            "[2 4 6 8]\n"
          ]
        }
      ]
    },
    {
      "cell_type": "markdown",
      "source": [
        "Unlike lists, arrays can only store data of a similar type."
      ],
      "metadata": {
        "id": "zPi6S8UgcRtV"
      }
    },
    {
      "cell_type": "code",
      "source": [
        "#Create an Array Using np.zeros()\n",
        "#The np.zeros() function allows us to create an array filled with all zeros.\n",
        "# create an array with 4 elements filled with zeros\n",
        "array1 = np.ones(4)\n",
        "\n",
        "print(array1)"
      ],
      "metadata": {
        "colab": {
          "base_uri": "https://localhost:8080/"
        },
        "id": "XXkS9J67cTkz",
        "outputId": "d25600d3-6195-4d25-a00e-d0012c663037"
      },
      "execution_count": 6,
      "outputs": [
        {
          "output_type": "stream",
          "name": "stdout",
          "text": [
            "[1. 1. 1. 1.]\n"
          ]
        }
      ]
    },
    {
      "cell_type": "code",
      "source": [
        "array1 = np.zeros(4)\n",
        "\n",
        "print(array1)"
      ],
      "metadata": {
        "colab": {
          "base_uri": "https://localhost:8080/"
        },
        "id": "9AA8fmRzdK6B",
        "outputId": "9e75ec93-a6d3-4a6a-f70b-ba5950ba9153"
      },
      "execution_count": 7,
      "outputs": [
        {
          "output_type": "stream",
          "name": "stdout",
          "text": [
            "[0. 0. 0. 0.]\n"
          ]
        }
      ]
    },
    {
      "cell_type": "markdown",
      "source": [
        "Create an Array With np.arange()"
      ],
      "metadata": {
        "id": "EqGRyKC9dgZu"
      }
    },
    {
      "cell_type": "code",
      "source": [
        "#The np.arange() function returns an array with values within a specified interval.\n",
        "# create an array with values from 0 to 4\n",
        "array1 = np.arange(5)\n",
        "\n",
        "print(\"Using np.arange(5):\", array1)\n",
        "\n",
        "# create an array with values from 1 to 8 with a step of 2\n",
        "array2 = np.arange(1, 15, 4)\n",
        "\n",
        "print(\"Using np.arange(1, 9, 2):\",array2)"
      ],
      "metadata": {
        "colab": {
          "base_uri": "https://localhost:8080/"
        },
        "id": "KGs2A2U7djIM",
        "outputId": "1030e8eb-075b-4177-d464-8610f2e78755"
      },
      "execution_count": 10,
      "outputs": [
        {
          "output_type": "stream",
          "name": "stdout",
          "text": [
            "Using np.arange(5): [0 1 2 3 4]\n",
            "Using np.arange(1, 9, 2): [ 1  5  9 13]\n"
          ]
        }
      ]
    },
    {
      "cell_type": "code",
      "source": [
        "#Create an Array With np.random.rand()\n",
        "#The np.random.rand() function is used to create an array of random numbers.\n",
        "\n",
        "#an example to create an array of 5 random numbers\n",
        "# generate an array of 5 random numbers\n",
        "array1 = np.random.rand(5)\n",
        "\n",
        "print(array1)"
      ],
      "metadata": {
        "colab": {
          "base_uri": "https://localhost:8080/"
        },
        "id": "DBs-9jumiflM",
        "outputId": "ceaa4f59-74f2-4bee-92c6-c63a642e5cbb"
      },
      "execution_count": 11,
      "outputs": [
        {
          "output_type": "stream",
          "name": "stdout",
          "text": [
            "[0.53145342 0.83217606 0.91037081 0.39457624 0.07150087]\n"
          ]
        }
      ]
    },
    {
      "cell_type": "code",
      "source": [
        "#Create an Empty NumPy Array\n",
        "#To create an empty NumPy array, we use the np.empty() function.\n",
        "# create an empty array of length 4\n",
        "array1 = np.empty(4)\n",
        "\n",
        "print(array1)"
      ],
      "metadata": {
        "colab": {
          "base_uri": "https://localhost:8080/"
        },
        "id": "-znn0-_eixtk",
        "outputId": "b56e5403-48c9-409b-f62d-1bc42c7b9629"
      },
      "execution_count": 15,
      "outputs": [
        {
          "output_type": "stream",
          "name": "stdout",
          "text": [
            "[0. 0. 0. 0.]\n"
          ]
        }
      ]
    },
    {
      "cell_type": "markdown",
      "source": [
        "If we look into the output of the code, we can see the empty array is actually not empty, it has some values in it.\n",
        "\n",
        "It is because although we are creating an empty array, NumPy will try to add some value to it. The values stored in the array are arbitrary and have no significance."
      ],
      "metadata": {
        "id": "87jVUniAjGxL"
      }
    },
    {
      "cell_type": "code",
      "source": [
        "#N-D Array Creation From List of Lists\n",
        "#To create an N-dimensional NumPy array from a Python List, we can use the np.array() function and pass the list as an argument."
      ],
      "metadata": {
        "id": "IlUJxgC2jIjq"
      },
      "execution_count": null,
      "outputs": []
    },
    {
      "cell_type": "code",
      "source": [
        "#Create a 2-D NumPy Array\n",
        "#create a 2D NumPy array with 2 rows and 4 columns using lists.\n",
        "array1 = np.array([[1, 2, 3, 4],\n",
        "                  [5, 6, 7, 8]])\n",
        "print(array1)"
      ],
      "metadata": {
        "colab": {
          "base_uri": "https://localhost:8080/"
        },
        "id": "gtvJbFvPld74",
        "outputId": "584aadf3-d693-46d6-dfab-86232bedae81"
      },
      "execution_count": 16,
      "outputs": [
        {
          "output_type": "stream",
          "name": "stdout",
          "text": [
            "[[1 2 3 4]\n",
            " [5 6 7 8]]\n"
          ]
        }
      ]
    },
    {
      "cell_type": "code",
      "source": [
        "#Create a 3-D NumPy Array\n",
        "#create a 3-D NumPy array consisting of two \"slices\" where each slice has 3 rows and 4 columns.\n",
        "array1 = np.array([[[1, 2, 3, 4],\n",
        "                [5, 6, 7, 8],\n",
        "                [9, 10, 11, 12]],\n",
        "\n",
        "                [[13, 14, 15, 16],\n",
        "                 [17, 18, 19, 20],\n",
        "                 [21, 22, 23, 24]]])\n",
        "\n",
        "print(array1)"
      ],
      "metadata": {
        "colab": {
          "base_uri": "https://localhost:8080/"
        },
        "id": "7Rg9rzgAlugd",
        "outputId": "5adf8b0f-0bc3-49b6-f961-0b9c5138b043"
      },
      "execution_count": 17,
      "outputs": [
        {
          "output_type": "stream",
          "name": "stdout",
          "text": [
            "[[[ 1  2  3  4]\n",
            "  [ 5  6  7  8]\n",
            "  [ 9 10 11 12]]\n",
            "\n",
            " [[13 14 15 16]\n",
            "  [17 18 19 20]\n",
            "  [21 22 23 24]]]\n"
          ]
        }
      ]
    },
    {
      "cell_type": "markdown",
      "source": [
        "Here, we created a 3D list [list of lists of lists] and passed it to the np.array() function. This creates the 3-D array named array1.\n",
        "\n",
        "In the 3D list,\n",
        "\n",
        "The outermost list contains two elements, which are lists representing the two \"slices\" of the array. Each slice is a 2-D array with 3 rows and 4 columns.\n",
        "The innermost lists represent the individual rows of the 2-D arrays.\n",
        "In the context of an N-D array, a slice is like a subset of the array that we can take out by selecting a specific range of rows, columns."
      ],
      "metadata": {
        "id": "2GujB3iFmBxN"
      }
    },
    {
      "cell_type": "markdown",
      "source": [
        "Creating N-d Arrays From Scratch. We saw how to create N-d NumPy arrays from Python lists. Now we'll see how we can create them from scratch.\n",
        "\n"
      ],
      "metadata": {
        "id": "hJ5csG3vmHS0"
      }
    },
    {
      "cell_type": "code",
      "source": [
        "#To create multidimensional arrays from scratch we use functions such as\n",
        "\n",
        "#np.zeros()\n",
        "#np.arange()\n",
        "#np.random.rand()"
      ],
      "metadata": {
        "id": "d80c_RftmIQf"
      },
      "execution_count": null,
      "outputs": []
    },
    {
      "cell_type": "code",
      "source": [
        "#Create N-D Arrays using np.zeros()\n",
        "#The np.zeros() function allows us to create N-D arrays filled with all zeros.\n",
        "# create 2D array with 2 rows and 3 columns filled with zeros\n",
        "array1 = np.zeros((2, 3))\n",
        "\n",
        "print(\"2-D Array: \")\n",
        "print(array1)\n",
        "\n",
        "# create 3D array with dimensions 2x3x4 filled with zeros\n",
        "array2 = np.zeros((2, 3, 4))\n",
        "\n",
        "print(\"\\n3-D Array: \")\n",
        "print(array2)"
      ],
      "metadata": {
        "colab": {
          "base_uri": "https://localhost:8080/"
        },
        "id": "cVUysz8umkIb",
        "outputId": "80159b1b-29b4-4858-dd61-f9c7b2795d4f"
      },
      "execution_count": 18,
      "outputs": [
        {
          "output_type": "stream",
          "name": "stdout",
          "text": [
            "2-D Array: \n",
            "[[0. 0. 0.]\n",
            " [0. 0. 0.]]\n",
            "\n",
            "3-D Array: \n",
            "[[[0. 0. 0. 0.]\n",
            "  [0. 0. 0. 0.]\n",
            "  [0. 0. 0. 0.]]\n",
            "\n",
            " [[0. 0. 0. 0.]\n",
            "  [0. 0. 0. 0.]\n",
            "  [0. 0. 0. 0.]]]\n"
          ]
        }
      ]
    },
    {
      "cell_type": "markdown",
      "source": [
        "np.zeros((2, 3)) - returns a zero filled 2-D array with 2 rows and 3 columns\n",
        "\n",
        "\n",
        "np.zeros((2, 3, 4)) - returns a zero filled 3-D array with 2 slices, each slice having 3 rows and 4 columns."
      ],
      "metadata": {
        "id": "tY_KdXlhm7Ca"
      }
    },
    {
      "cell_type": "code",
      "source": [
        "#Create N-D Array with a Specified Value\n",
        " #to create a 2-D array with the value 5\n",
        " # Create a 2-D array with elements initialized to 5\n",
        "numpy_array = np.full((2, 2), 5)\n",
        "\n",
        "print(\"Array:\", numpy_array)"
      ],
      "metadata": {
        "colab": {
          "base_uri": "https://localhost:8080/"
        },
        "id": "lVHq_BNFm-1a",
        "outputId": "fa6b1373-46ca-4fe0-9fbb-c7dce73e93e7"
      },
      "execution_count": 19,
      "outputs": [
        {
          "output_type": "stream",
          "name": "stdout",
          "text": [
            "Array: [[5 5]\n",
            " [5 5]]\n"
          ]
        }
      ]
    },
    {
      "cell_type": "code",
      "source": [
        "#Creating Arrays With np.random.rand()\n",
        "#The np.random.rand() function is used to create an array of random numbers.\n",
        "# create a 2D array of 2 rows and 2 columns of random numbers\n",
        "array1 = np.random.rand(2, 2)\n",
        "\n",
        "print(\"2-D Array: \")\n",
        "print(array1)\n",
        "\n",
        "# create a 3D array of shape (2, 2, 2) of random numbers\n",
        "array2 = np.random.rand(2, 2, 2)\n",
        "\n",
        "print(\"\\n3-D Array: \")\n",
        "print(array2)"
      ],
      "metadata": {
        "colab": {
          "base_uri": "https://localhost:8080/"
        },
        "id": "GqIfP_QGne2T",
        "outputId": "917effab-ede2-47d3-fba0-e75bee2dc985"
      },
      "execution_count": 20,
      "outputs": [
        {
          "output_type": "stream",
          "name": "stdout",
          "text": [
            "2-D Array: \n",
            "[[0.38489836 0.60190278]\n",
            " [0.17901749 0.94319813]]\n",
            "\n",
            "3-D Array: \n",
            "[[[0.70885878 0.24242599]\n",
            "  [0.55088669 0.15444739]]\n",
            "\n",
            " [[0.2158448  0.67920974]\n",
            "  [0.22823743 0.39765482]]]\n"
          ]
        }
      ]
    },
    {
      "cell_type": "markdown",
      "source": [
        "np.random.rand(2, 2) - creates a 2D array of 2 rows and 2 columns of random numbers.\n",
        "\n",
        "np.random.rand(2, 2, 2) - creates a 3D array with 2 slices, each slice having 2 rows and 2 columns of random numbers."
      ],
      "metadata": {
        "id": "RODZl3hKntk1"
      }
    },
    {
      "cell_type": "code",
      "source": [
        "#Check Data Type of a NumPy Array\n",
        "#To check the data type of a NumPy array, we can use the dtype attribute.\n",
        "# create an array of integers\n",
        "array1 = np.array([2, 4, 6])\n",
        "\n",
        "# check the data type of array1\n",
        "print(array1.dtype)"
      ],
      "metadata": {
        "colab": {
          "base_uri": "https://localhost:8080/"
        },
        "id": "cpwFmAFJo6fI",
        "outputId": "9fdda574-a271-48da-a89a-c15ebd238e24"
      },
      "execution_count": 21,
      "outputs": [
        {
          "output_type": "stream",
          "name": "stdout",
          "text": [
            "int64\n"
          ]
        }
      ]
    },
    {
      "cell_type": "markdown",
      "source": [
        "Since array1 is an array of integers, the data type of array1 is inferred as int64 by default."
      ],
      "metadata": {
        "id": "Jf2h2SRWpXcE"
      }
    },
    {
      "cell_type": "code",
      "source": [
        "#Check Data Type of NumPy Array\n",
        "# create an array of  integers\n",
        "int_array = np.array([-3, -1, 0, 1])\n",
        "\n",
        "# create an array of floating-point numbers\n",
        "float_array = np.array([0.1, 0.2, 0.3])\n",
        "\n",
        "# create an array of complex numbers\n",
        "complex_array = np.array([1+2j, 2+3j, 3+4j])\n",
        "\n",
        "# check the data type of int_array\n",
        "print(int_array.dtype)  # prints int64\n",
        "\n",
        "# check the data type of float_array\n",
        "print(float_array.dtype)  # prints float64\n",
        "\n",
        "# check the data type of complex_array\n",
        "print(complex_array.dtype)  # prints complex128"
      ],
      "metadata": {
        "colab": {
          "base_uri": "https://localhost:8080/"
        },
        "id": "ao32LsORpc_f",
        "outputId": "8524ad85-dc1e-4218-9803-0648feb55216"
      },
      "execution_count": 22,
      "outputs": [
        {
          "output_type": "stream",
          "name": "stdout",
          "text": [
            "int64\n",
            "float64\n",
            "complex128\n"
          ]
        }
      ]
    },
    {
      "cell_type": "markdown",
      "source": [
        "int_array - contains four integer elements whose default data type is int64\n",
        "\n",
        "\n",
        "float_array - contains three floating-point numbers whose default data type is float64\n",
        "\n",
        "\n",
        "complex_array - contains three complex numbers whose default data type is complex128"
      ],
      "metadata": {
        "id": "XkWZHK8sp0J-"
      }
    },
    {
      "cell_type": "code",
      "source": [
        "#Creating NumPy Arrays With a Defined Data Type\n",
        "#In NumPy, we can create an array with a defined data type by passing the dtype parameter while calling the np.array() function.\n",
        "# create an array of 32-bit integers\n",
        "array1 = np.array([1, 3, 7], dtype='int32')\n",
        "\n",
        "print(array1, array1.dtype)"
      ],
      "metadata": {
        "colab": {
          "base_uri": "https://localhost:8080/"
        },
        "id": "ydVNf2Qep6gR",
        "outputId": "6b77864f-c709-4069-b53c-e673bf1ada55"
      },
      "execution_count": 23,
      "outputs": [
        {
          "output_type": "stream",
          "name": "stdout",
          "text": [
            "[1 3 7] int32\n"
          ]
        }
      ]
    },
    {
      "cell_type": "markdown",
      "source": [
        "Here, inside np.array(), we have passed an array [1, 3, 7] and set the dtype parameter to int32.\n",
        "\n",
        "Since we have set the data type of the array to int32, each element of the array is represented as a 32-bit integer."
      ],
      "metadata": {
        "id": "ZTOPGxKxqZq2"
      }
    },
    {
      "cell_type": "code",
      "source": [
        "#NumPy Type Conversion\n",
        "#In NumPy, we can convert the data type of an array using the astype() method.\n",
        "# create an array of integers\n",
        "int_array = np.array([1, 3, 5, 7])\n",
        "\n",
        "# convert data type of int_array to float\n",
        "float_array = int_array.astype('float')\n",
        "\n",
        "# print the arrays and their data types\n",
        "print(int_array, int_array.dtype)\n",
        "print(float_array, float_array.dtype)"
      ],
      "metadata": {
        "colab": {
          "base_uri": "https://localhost:8080/"
        },
        "id": "ULZtBo2iqb_S",
        "outputId": "1553f429-dcbc-4731-ebf2-75d6e8160e44"
      },
      "execution_count": 24,
      "outputs": [
        {
          "output_type": "stream",
          "name": "stdout",
          "text": [
            "[1 3 5 7] int64\n",
            "[1. 3. 5. 7.] float64\n"
          ]
        }
      ]
    },
    {
      "cell_type": "markdown",
      "source": [
        "Here, int_array.astype('float') converts the data type of int_array from int64 to float64 using astype()."
      ],
      "metadata": {
        "id": "jSugHEWvq9ST"
      }
    },
    {
      "cell_type": "code",
      "source": [
        "#To access the Numpy attributes, we use the . notation\n",
        "array1.ndim\n",
        "#This returns the number of dimensions in array1."
      ],
      "metadata": {
        "colab": {
          "base_uri": "https://localhost:8080/"
        },
        "id": "x8vABJXKrAY5",
        "outputId": "735098dd-47f7-427d-8cac-c4c6a1c5c3b2"
      },
      "execution_count": 25,
      "outputs": [
        {
          "output_type": "execute_result",
          "data": {
            "text/plain": [
              "1"
            ]
          },
          "metadata": {},
          "execution_count": 25
        }
      ]
    },
    {
      "cell_type": "code",
      "source": [
        "#The ndim attribute returns the number of dimensions in the numpy array.\n",
        "# create a 2-D array\n",
        "array1 = np.array([[2, 4, 6],\n",
        "                  [1, 3, 5]])\n",
        "\n",
        "# check the dimension of array1\n",
        "print(array1.ndim)\n"
      ],
      "metadata": {
        "colab": {
          "base_uri": "https://localhost:8080/"
        },
        "id": "n8oJYJBBzvOu",
        "outputId": "79899538-10a2-46dc-a436-c923b404b2cc"
      },
      "execution_count": 26,
      "outputs": [
        {
          "output_type": "stream",
          "name": "stdout",
          "text": [
            "2\n"
          ]
        }
      ]
    },
    {
      "cell_type": "markdown",
      "source": [
        "In this example, array1.ndim returns the number of dimensions present in array1. As array1 is a 2D array, we got 2 as an output."
      ],
      "metadata": {
        "id": "zjVnTcBiz4rB"
      }
    },
    {
      "cell_type": "code",
      "source": [
        "#NumPy Array size Attribute\n",
        "#The size attribute returns the total number of elements in the given array.\n",
        "array1 = np.array([[1, 2, 3],\n",
        "                 [6, 7, 8]])\n",
        "\n",
        "# return total number of elements in array1\n",
        "print(array1.size)\n",
        "\n",
        "#Since these are a total of 6 elements in array1, the size attribute returns 6."
      ],
      "metadata": {
        "colab": {
          "base_uri": "https://localhost:8080/"
        },
        "id": "sn22xxP8z5a4",
        "outputId": "fcd51d1c-99db-4d32-e5d2-6d841de2a64f"
      },
      "execution_count": 27,
      "outputs": [
        {
          "output_type": "stream",
          "name": "stdout",
          "text": [
            "6\n"
          ]
        }
      ]
    },
    {
      "cell_type": "code",
      "source": [
        "#NumPy Array shape Attribute\n",
        "array1 = np.array([[1, 2, 3],\n",
        "                [6, 7, 8]])\n",
        "\n",
        "# return a tuple that gives size of array in each dimension\n",
        "print(array1.shape)"
      ],
      "metadata": {
        "colab": {
          "base_uri": "https://localhost:8080/"
        },
        "id": "burlAHIG0Q_q",
        "outputId": "a9dacab7-3c12-4a29-b7ae-621d2b8c4dbc"
      },
      "execution_count": 28,
      "outputs": [
        {
          "output_type": "stream",
          "name": "stdout",
          "text": [
            "(2, 3)\n"
          ]
        }
      ]
    },
    {
      "cell_type": "code",
      "source": [
        "#NumPy Array itemsize Attribute\n",
        "#In NumPy, the itemsize attribute determines size (in bytes) of each element in the array.\n",
        "# create a default 1-D array of integers\n",
        "array1 = np.array([6, 7, 8, 10, 13, 18, 29, 22])\n",
        "\n",
        "# create a 1-D array of 32-bit integers\n",
        "array2 = np.array([6, 7, 8, 10, 13], dtype=np.int32)\n",
        "\n",
        "# use of itemsize to determine size of each array element of array1 and array2\n",
        "print(array1.itemsize)  # prints 8\n",
        "print(array2.itemsize)  # prints 4"
      ],
      "metadata": {
        "colab": {
          "base_uri": "https://localhost:8080/"
        },
        "id": "NgPqDWd52qkG",
        "outputId": "2ead9292-27b5-4052-b7ff-84a530b69896"
      },
      "execution_count": 30,
      "outputs": [
        {
          "output_type": "stream",
          "name": "stdout",
          "text": [
            "8\n",
            "4\n"
          ]
        }
      ]
    },
    {
      "cell_type": "markdown",
      "source": [
        "array1 is an array containing 64-bit integers by default, which uses 8\n",
        "bytes of memory per element. So, itemsize returns 8 as the size of each element.\n",
        "\n",
        "\n",
        "array2 is an array of 32-bit integers, so each element in this array uses only 4 bytes of memory. So, itemsize returns 4 as the size of each element.\n"
      ],
      "metadata": {
        "id": "ogVSvaz83IGU"
      }
    },
    {
      "cell_type": "code",
      "source": [
        "#NumPy Array data Attribute\n",
        "#In NumPy, we can get a buffer containing actual elements of the array in memory using the data attribute.\n",
        "\n",
        " #The data attribute is like a pointer to the memory location where the array's data is stored in the computer's memory.\n",
        "array1 = np.array([6, 7, 8])\n",
        "array2 = np.array([[1, 2, 3],\n",
        "                  [6, 7, 8]])\n",
        "\n",
        "# print memory address of array1's and array2's data\n",
        "print(\"\\nData of array1 is: \",array1.data)\n",
        "print(\"Data of array2 is: \",array2.data)"
      ],
      "metadata": {
        "colab": {
          "base_uri": "https://localhost:8080/"
        },
        "id": "rNJpTOZ-3NEE",
        "outputId": "5f17ce8c-560e-4e30-d20a-060ea0d80969"
      },
      "execution_count": 31,
      "outputs": [
        {
          "output_type": "stream",
          "name": "stdout",
          "text": [
            "\n",
            "Data of array1 is:  <memory at 0x7bfc8b2d8280>\n",
            "Data of array2 is:  <memory at 0x7bfcc0276330>\n"
          ]
        }
      ]
    },
    {
      "cell_type": "code",
      "source": [
        "#Most Commonly Used I/O Functions-\n",
        "#save()\tsaves an array to a binary file in the NumPy .npy format.\n",
        "#load()\tloads data from a binary file in the NumPy .npy format\n",
        "#savetxt()\tsaves an array to a text file in a specific format\n",
        "#loadtxt()\n"
      ],
      "metadata": {
        "id": "GKClZIwu8BTH"
      },
      "execution_count": null,
      "outputs": []
    },
    {
      "cell_type": "code",
      "source": [
        "#NumPy save() Function\n",
        "#In NumPy, the save() function is used to save an array to a binary file in the NumPy .npy format.\n",
        "# create a NumPy array\n",
        "array1 = np.array([[1, 3, 5],\n",
        "                   [7, 9, 11]])\n",
        "\n",
        "# save the array to a file\n",
        "np.save('file1.npy', array1)\n"
      ],
      "metadata": {
        "id": "pCB9OTp28VN_"
      },
      "execution_count": 34,
      "outputs": []
    },
    {
      "cell_type": "markdown",
      "source": [
        "In NumPy, the save() function is used to save an array to a binary file in the NumPy .npy format.\n",
        "\n",
        "we saved the NumPy array named array1 to the binary file named file1.npy in our current directory."
      ],
      "metadata": {
        "id": "EEAXpSxx98fz"
      }
    },
    {
      "cell_type": "code",
      "source": [
        "# load the saved NumPy array\n",
        "loaded_array = np.load('file1.npy')\n",
        "\n",
        "# display the loaded array\n",
        "print(loaded_array)"
      ],
      "metadata": {
        "colab": {
          "base_uri": "https://localhost:8080/"
        },
        "id": "reerztUg9zGV",
        "outputId": "5f6ef39c-d7e7-4a89-a945-17edd1032c54"
      },
      "execution_count": 35,
      "outputs": [
        {
          "output_type": "stream",
          "name": "stdout",
          "text": [
            "[[ 1  3  5]\n",
            " [ 7  9 11]]\n"
          ]
        }
      ]
    },
    {
      "cell_type": "markdown",
      "source": [
        "Here, we have used the load() function to read a binary file named file1.npy.\n",
        "\n",
        "This is the same file we created and saved using save() function in the last example."
      ],
      "metadata": {
        "id": "nE3zgZBt_v56"
      }
    },
    {
      "cell_type": "code",
      "source": [
        "# create a NumPy array\n",
        "array2 = np.array([[1, 3, 5],\n",
        "                   [7, 9, 11]])\n",
        "\n",
        "# save the array to a file\n",
        "np.savetxt('file2.txt', array2)"
      ],
      "metadata": {
        "id": "6VogkKYS_xyA"
      },
      "execution_count": 37,
      "outputs": []
    },
    {
      "cell_type": "markdown",
      "source": [
        "The code above will save the NumPy array array2 to the text file named file2.txt in our current directory."
      ],
      "metadata": {
        "id": "fL77fDlWAb0Y"
      }
    },
    {
      "cell_type": "code",
      "source": [
        "#NumPy loadtxt() Function\n",
        "#We use the loadtxt() function to load the saved txt file.\n",
        "\n",
        "#To load the file2.txt file that we saved earlier.\n",
        "# load the saved NumPy array\n",
        "loaded_array = np.loadtxt('file2.txt')\n",
        "\n",
        "# display the loaded array\n",
        "print(loaded_array)\n",
        "\n",
        "#The values in the loaded array have dots . because loadtxt() reads the values as floating point numbers by default."
      ],
      "metadata": {
        "colab": {
          "base_uri": "https://localhost:8080/"
        },
        "id": "0jXLPgJIAk5f",
        "outputId": "75de9f35-2ab2-435b-dcd6-2a8307e39bf8"
      },
      "execution_count": 38,
      "outputs": [
        {
          "output_type": "stream",
          "name": "stdout",
          "text": [
            "[[ 1.  3.  5.]\n",
            " [ 7.  9. 11.]]\n"
          ]
        }
      ]
    },
    {
      "cell_type": "markdown",
      "source": [
        "Here, we have used the loadtxt() function to load the text file named file2.txt that was previously created and saved using the savetxt() function."
      ],
      "metadata": {
        "id": "sCs1E0CKAzno"
      }
    }
  ]
}